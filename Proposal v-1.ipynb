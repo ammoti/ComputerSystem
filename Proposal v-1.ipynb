{
 "cells": [
  {
   "cell_type": "code",
   "execution_count": 1,
   "metadata": {},
   "outputs": [],
   "source": [
    "#Team Members\n",
    "#Abdulvahap YİĞİT"
   ]
  },
  {
   "cell_type": "code",
   "execution_count": 2,
   "metadata": {},
   "outputs": [],
   "source": [
    "# 1) Problem or Topic\n",
    "# Define a problem or topic you would like to study:\n",
    "# We want to study that can we make predict similar movies looking at some movie rating data that users have put in."
   ]
  },
  {
   "cell_type": "code",
   "execution_count": 1,
   "metadata": {},
   "outputs": [],
   "source": [
    "# 2) Data\n",
    "# 2.1) Our data is collected by GroupLens Research team and made it available rating data sets. It has collected in periods of time.\n",
    "# 2.1) Its included movienames and user rates etc.\n",
    "# 2.2) Our data format is UserId, MovieId, Rating and Timestamp\n",
    "# 2.3) We are thinking that, firstly, mapping rating in key/value pairs : userId ==> movieId,rating\n",
    "# 2.3) After that we should emit every movie rated together by the same user.\n",
    "# 2.3) And we should filter out duplicated pairs.\n",
    "# 2.3) After this point we can collect all rating for each movie pair and find the similarity.\n",
    "# 2.3) And finally we should make filter taking \"good\" defined our quality threshold.\n",
    "\n",
    "# 2.4) Its very big data so that's good because we can make more accuracy computing.\n",
    "# 2.5) Some data seems to be junky so that's be wrong for this data.\n",
    "\n",
    "# 3) Question\n",
    "# 3.1) 1) Which technique will use for the finding similarity each movies?\n",
    "# 3.1) 2) What graphs will you draw for the data?\n",
    "# 3.1) 3) What operations you will apply on your data?\n",
    "# 3.1) 4) Is there any relationship between similar movies and produced times?\n",
    "# 3.1) 5) Is there any dominant genre(s) in most similiar movies?\n",
    "\n",
    "# 3.2) 1) We will use cosine similarity which is very common technuqie for detail visit > https://en.wikipedia.org/wiki/Cosine_similarity\n",
    "# 3.2) 2) We might be draw top 10 similar movies with ratings.\n",
    "# 3.2) 3) Firstly, we will do make mapping rating to key/value pairs after that filter out duplicated pairs and compute the similarity that's all.\n",
    "# 3.2) 4) It's hard to say now but, we will draw founded data our expectation is yes there is.\n",
    "# 3.2) 5) Theoretically there should be dominant genre but it's hard to predict that how dominant is it? \n",
    "\n",
    "# 4) Applications & Conclusions\n",
    "# 4.1) Our main purpose is better understanding how reccommendation & prediction systems are working and in our study we want make a little version of kind of systems.\n",
    "# 4.2) Our finding will be useful, because people, now companies like netflix, amazon etc. using those kind of algorithm and using their products and increase their productavite.\n",
    "# 4.3) Our application is about finding similar movies using user rates.  \n",
    "# 4.4) We will use power of the python & spark.\n",
    "\n"
   ]
  },
  {
   "cell_type": "code",
   "execution_count": null,
   "metadata": {},
   "outputs": [],
   "source": []
  }
 ],
 "metadata": {
  "kernelspec": {
   "display_name": "Python 3",
   "language": "python",
   "name": "python3"
  },
  "language_info": {
   "codemirror_mode": {
    "name": "ipython",
    "version": 3
   },
   "file_extension": ".py",
   "mimetype": "text/x-python",
   "name": "python",
   "nbconvert_exporter": "python",
   "pygments_lexer": "ipython3",
   "version": "3.6.4"
  }
 },
 "nbformat": 4,
 "nbformat_minor": 2
}
